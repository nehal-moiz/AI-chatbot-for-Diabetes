{
  "nbformat": 4,
  "nbformat_minor": 0,
  "metadata": {
    "colab": {
      "provenance": [],
      "authorship_tag": "ABX9TyPAhCz+lTDWfD4Ud7YjUcIS",
      "include_colab_link": true
    },
    "kernelspec": {
      "name": "python3",
      "display_name": "Python 3"
    },
    "language_info": {
      "name": "python"
    }
  },
  "cells": [
    {
      "cell_type": "markdown",
      "metadata": {
        "id": "view-in-github",
        "colab_type": "text"
      },
      "source": [
        "<a href=\"https://colab.research.google.com/github/nehal-moiz/AI-chatbot-for-Diabetes/blob/main/Heart_Disease_prediction_application.ipynb\" target=\"_parent\"><img src=\"https://colab.research.google.com/assets/colab-badge.svg\" alt=\"Open In Colab\"/></a>"
      ]
    },
    {
      "cell_type": "code",
      "execution_count": null,
      "metadata": {
        "id": "swQmTlW5hPdO"
      },
      "outputs": [],
      "source": [
        "import pandas as pd\n",
        "from sklearn.preprocessing import StandardScaler\n",
        "from sklearn.linear_model import LogisticRegression\n",
        "import joblib\n",
        "\n",
        "scaler.fit(X_train)\n",
        "joblib.dump(scaler, 'scaler.pkl')\n",
        "\n",
        "model = LogisticRegression()\n",
        "model.fit(X_train, y_train)\n",
        "joblib.dump(model, 'model.pkl')\n",
        "\n",
        "scaler = joblib.load('scaler.pkl')\n",
        "model = joblib.load('model.pkl')\n",
        "\n",
        "def preprocess_input(user_input):\n",
        "    user_df = pd.DataFrame(user_input, index=[0])\n",
        "    user_input_processed = scaler.transform(user_df)\n",
        "    return user_input_processed\n",
        "\n",
        "def predict_heart_disease(user_input_processed):\n",
        "    prediction = model.predict(user_input_processed)\n",
        "    return prediction\n",
        "\n",
        "def main():\n",
        "    print(\"Welcome to the Heart Disease Prediction App\")\n",
        "    print(\"Please enter your information as prompted.\")\n",
        "\n",
        "    input_questions = {\n",
        "        'age': \"Enter your age: \",\n",
        "        'sex': \"Enter your sex (0 for female, 1 for male): \",\n",
        "        'cp': \"Enter your chest pain type (0-3): \",\n",
        "        'trestbps': \"Enter your resting blood pressure: \",\n",
        "        'chol': \"Enter your serum cholesterol level: \",\n",
        "        'fbs': \"Enter your fasting blood sugar (> 120 mg/dl) (0 for no, 1 for yes): \",\n",
        "        'restecg': \"Enter your resting electrocardiographic results (0-2): \",\n",
        "        'thalach': \"Enter your maximum heart rate achieved: \",\n",
        "        'exang': \"Enter if you have exercise-induced angina (0 for no, 1 for yes): \",\n",
        "        'oldpeak': \"Enter your ST depression induced by exercise relative to rest: \",\n",
        "        'slope': \"Enter the slope of the peak exercise ST segment (0-2): \",\n",
        "        'ca': \"Enter the number of major vessels colored by fluoroscopy (0-3): \",\n",
        "        'thal': \"Enter your thalassemia type (0-3): \"\n",
        "    }\n",
        "\n",
        "    user_input = {}\n",
        "    for feature, question in input_questions.items():\n",
        "        user_input[feature] = float(input(question))\n",
        "\n",
        "    user_input_processed = preprocess_input(user_input)\n",
        "\n",
        "    prediction = predict_heart_disease(user_input_processed)\n",
        "\n",
        "    if prediction[0] == 0:\n",
        "        print(\"Based on the information provided, you are predicted to be free from heart disease.\")\n",
        "    else:\n",
        "        print(\"Based on the information provided, you are predicted to have heart disease.\")\n",
        "\n",
        "if __name__ == \"__main__\":\n",
        "    main()\n"
      ]
    }
  ]
}